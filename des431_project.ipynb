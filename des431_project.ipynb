{
  "cells": [
    {
      "cell_type": "markdown",
      "metadata": {
        "id": "oXaWgn0ylEAh"
      },
      "source": [
        "# DES431 Project: Recommendation System"
      ]
    },
    {
      "cell_type": "markdown",
      "metadata": {
        "id": "nphToiS1lEAk"
      },
      "source": [
        "# Background\n",
        "\n",
        "**MovieLens** is a movie recommendation system operated by GroupLens, a research group at the University of Minnesota. MovieLens has been developed to provide personalized movie recommendations to its users based on their viewing history and preferences.\n",
        "\n",
        "# Tasks\n",
        "\n",
        "1. This project is to be completed by a group of up to three students.\n",
        "2. Propose and implement your own recommendation system based on the MovieLens dataset.\n",
        "   - Use `ratings_train.csv` as the training set and `ratings_valid.csv` as the validation set.\n",
        "   - Your recommendation system may utilize information from `movies.csv` for making recommendations.\n",
        "   - The structure of the data files is detailed at `https://files.grouplens.org/datasets/movielens/ml-latest-small-README.html`.\n",
        "   - The goal of the recommendation system is to minimize the root-mean-square error (RMSE), i.e., to minimize the difference between the predicted and actual ratings.\n",
        "   - You are required to modify the provided program to enhance recommendation quality. Submitting the original, unaltered program will be considered plagiarism.\n",
        "3. Prepare slides for a 7-minute presentation that explains your proposed technique and algorithm for making recommendations, and demonstrates your RMSE results on the validation set. The slides must include\n",
        "   - A diagram and detailed explanation of your model\n",
        "   - Results on the validation set\n",
        "   - A discussion of the pros and cons of your model\n",
        "4. Submit your Python notebook and the presentation slides in PDF format via Google Classroom by May 5, 2025, at 23:59.\n",
        "   - All members of the group must individually submit their work to Google Classroom.\n",
        "   - Late submissions will not be accepted and will incur a 10% deduction.\n",
        "   - Do not procrastinate. Plagiarism and code duplication will be rigorously checked.\n",
        "5. Present your work on either May 7 or May 14, within a 7-minute timeframe. Presentations exceeding 7 minutes will result in point deductions. The presentation schedule will be announced later.\n",
        "6. Attend the presentation physically on-site in the classroom on both days. Late penalty will be applied.\n",
        "7. Evaluate the presenations of all groups including your group.\n",
        "\n",
        "You need to complete all tasks (1--7). Failure to complete any task will result in a score deduction.\n"
      ]
    },
    {
      "cell_type": "code",
      "execution_count": 6,
      "metadata": {
        "id": "Z8nNwnCulEAk"
      },
      "outputs": [],
      "source": [
        "# Edit this cell for the group name and members\n",
        "# Group name: ben10\n",
        "# Group member1: Kanapitch (6522790276)\n",
        "# Group member2: Witchapas (6522780780)\n",
        "# Group member3: Kueakul (6522772464)"
      ]
    },
    {
      "cell_type": "code",
      "execution_count": 7,
      "metadata": {
        "id": "NPKDiuzglEAl"
      },
      "outputs": [],
      "source": [
        "import numpy as np\n",
        "import pandas as pd\n",
        "import matplotlib.pyplot as plt\n",
        "from scipy.sparse import coo_matrix\n",
        "from sklearn.metrics.pairwise import cosine_similarity\n",
        "from math import sqrt\n",
        "import itertools"
      ]
    },
    {
      "cell_type": "markdown",
      "metadata": {
        "id": "dOpWy82YlEAm"
      },
      "source": [
        "# Loading and preprocess data"
      ]
    },
    {
      "cell_type": "code",
      "execution_count": 8,
      "metadata": {
        "id": "iBVyS0ORlEAm"
      },
      "outputs": [],
      "source": [
        "train = pd.read_csv('ratings_train.csv')\n",
        "valid = pd.read_csv('ratings_valid.csv')\n",
        "movies= pd.read_csv('movies.csv')\n",
        "\n",
        "all_users = np.union1d(train.userId.unique(), valid.userId.unique())\n",
        "all_items = np.union1d(train.movieId.unique(), valid.movieId.unique())\n",
        "user2idx  = {u:i for i,u in enumerate(all_users)}\n",
        "item2idx  = {m:i for i,m in enumerate(all_items)}\n",
        "\n",
        "train_u = train.userId.map(user2idx).values\n",
        "train_i = train.movieId.map(item2idx).values\n",
        "train_r = train.rating.values\n",
        "valid_u = valid.userId.map(user2idx).values\n",
        "valid_i = valid.movieId.map(item2idx).values\n",
        "valid_r = valid.rating.values\n",
        "\n",
        "n_users, n_items = len(all_users), len(all_items)"
      ]
    },
    {
      "cell_type": "markdown",
      "metadata": {
        "id": "mr7fvB72lEAo"
      },
      "source": [
        "# Latent Factor Model + Biases (Bias MF)"
      ]
    },
    {
      "cell_type": "code",
      "source": [
        "def train_bias_mf(u_train, i_train, r_train,\n",
        "                  u_val,   i_val,   r_val,\n",
        "                  n_users, n_items,\n",
        "                  k, alpha, lam, epochs):\n",
        "    mu  = r_train.mean()\n",
        "    b_u = np.zeros(n_users)\n",
        "    b_i = np.zeros(n_items)\n",
        "    P   = np.random.normal(0, .1, (n_users, k))\n",
        "    Q   = np.random.normal(0, .1, (n_items, k))\n",
        "    history = []\n",
        "\n",
        "    for _ in range(epochs):\n",
        "        for u,i,r in zip(u_train, i_train, r_train):\n",
        "            pred = mu + b_u[u] + b_i[i] + P[u].dot(Q[i]) # Latent FM + Biases\n",
        "            e    = r - pred\n",
        "            b_u[u] += alpha*(e - lam*b_u[u])\n",
        "            b_i[i] += alpha*(e - lam*b_i[i])\n",
        "            P[u]   += alpha*(e*Q[i]   - lam*P[u])\n",
        "            Q[i]   += alpha*(e*P[u]   - lam*Q[i])\n",
        "\n",
        "        preds = (mu\n",
        "                 + b_u[u_val]\n",
        "                 + b_i[i_val]\n",
        "                 + np.sum(P[u_val]*Q[i_val], axis=1))\n",
        "        history.append(sqrt(np.mean((r_val - preds)**2)))\n",
        "\n",
        "    return (mu, b_u, b_i, P, Q), history"
      ],
      "metadata": {
        "id": "rGk2ONAADPIQ"
      },
      "execution_count": 9,
      "outputs": []
    },
    {
      "cell_type": "markdown",
      "source": [
        "# Hyperparameter grid-search (10 epochs)\n",
        "\n",
        "---\n",
        "\n"
      ],
      "metadata": {
        "id": "0ql-K_V-O37-"
      }
    },
    {
      "cell_type": "code",
      "source": [
        "param_grid = {\n",
        "    'k':     [10, 20, 50],\n",
        "    'alpha': [0.002, 0.005, 0.01],\n",
        "    'lam':   [0.01, 0.02, 0.05]\n",
        "}\n",
        "\n",
        "results = []\n",
        "for k_, α_, λ_ in itertools.product(param_grid['k'],\n",
        "                                   param_grid['alpha'],\n",
        "                                   param_grid['lam']):\n",
        "    _, hist = train_bias_mf(\n",
        "        train_u, train_i, train_r,\n",
        "        valid_u, valid_i, valid_r,\n",
        "        n_users, n_items,\n",
        "        k_, α_, λ_, epochs=10\n",
        "    )\n",
        "    results.append({'k':k_, 'alpha':α_, 'lam':λ_, 'rmse':hist[-1]})\n",
        "\n",
        "df = pd.DataFrame(results).sort_values('rmse').reset_index(drop=True)\n",
        "best = df.iloc[0]\n",
        "best_k, best_alpha, best_lam = int(best.k), best.alpha, best.lam\n",
        "print(\"Top 3 hyperparams:\\n\", df.head(3))"
      ],
      "metadata": {
        "colab": {
          "base_uri": "https://localhost:8080/"
        },
        "id": "Ja5Wg_2vOye8",
        "outputId": "ebb58dab-d3b0-491d-f48d-171fac9adc5a"
      },
      "execution_count": 10,
      "outputs": [
        {
          "output_type": "stream",
          "name": "stdout",
          "text": [
            "Top 3 hyperparams:\n",
            "     k  alpha   lam      rmse\n",
            "0  10  0.005  0.05  0.892593\n",
            "1  50  0.005  0.05  0.893097\n",
            "2  20  0.005  0.02  0.893277\n"
          ]
        }
      ]
    },
    {
      "cell_type": "markdown",
      "source": [
        "# Retrain best MF model for 100 epochs and plot RMSE curve"
      ],
      "metadata": {
        "id": "UrZIEjyoPAuF"
      }
    },
    {
      "cell_type": "code",
      "source": [
        "(params, history) = train_bias_mf(\n",
        "    train_u, train_i, train_r,\n",
        "    valid_u, valid_i, valid_r,\n",
        "    n_users, n_items,\n",
        "    best_k, best_alpha, best_lam,\n",
        "    epochs=100\n",
        ")\n",
        "mu, b_u, b_i, P, Q = params\n",
        "\n",
        "plt.plot(range(1,101), history)\n",
        "plt.xlabel('Epoch'); plt.ylabel('Validation RMSE')\n",
        "plt.title('Bias-MF Convergence')\n",
        "plt.show()"
      ],
      "metadata": {
        "colab": {
          "base_uri": "https://localhost:8080/",
          "height": 472
        },
        "id": "fYu2UmAkPCze",
        "outputId": "1a7684c4-6713-4426-e1bc-b084a7102c59"
      },
      "execution_count": 11,
      "outputs": [
        {
          "output_type": "display_data",
          "data": {
            "text/plain": [
              "<Figure size 640x480 with 1 Axes>"
            ],
            "image/png": "[encoded data removed]"
          },
          "metadata": {}
        }
      ]
    },
    {
      "cell_type": "markdown",
      "source": [
        "# Item-based CF predictor"
      ],
      "metadata": {
        "id": "JzSbHbqkPGxD"
      }
    },
    {
      "cell_type": "code",
      "source": [
        "R = coo_matrix((train_r, (train_u, train_i)), shape=(n_users, n_items))\n",
        "item_sim = cosine_similarity(R.T.tocsr(), dense_output=False)\n",
        "\n",
        "def predict_ibcf(u, i, k=20):\n",
        "    idx = np.where(train_u==u)[0]\n",
        "    if len(idx)==0: return mu\n",
        "    items = train_i[idx]\n",
        "    sims  = item_sim[i, items].toarray().ravel()\n",
        "    top   = np.argsort(sims)[-k:]\n",
        "    w, r  = sims[top], train_r[idx][top]\n",
        "    return np.dot(w, r)/(w.sum()+1e-8)\n",
        "\n",
        "preds_ibcf = np.array([predict_ibcf(u,i) for u,i in zip(valid_u, valid_i)])"
      ],
      "metadata": {
        "id": "g7XxqMw1PHrA"
      },
      "execution_count": 12,
      "outputs": []
    },
    {
      "cell_type": "markdown",
      "source": [
        "# Compute MF predictions"
      ],
      "metadata": {
        "id": "I0Dv_tgHPJke"
      }
    },
    {
      "cell_type": "code",
      "source": [
        "preds_mf = (\n",
        "    mu\n",
        "    + b_u[valid_u]\n",
        "    + b_i[valid_i]\n",
        "    + np.sum(P[valid_u]*Q[valid_i], axis=1)\n",
        ")"
      ],
      "metadata": {
        "id": "b3q2EP1jPLHz"
      },
      "execution_count": 13,
      "outputs": []
    },
    {
      "cell_type": "markdown",
      "source": [
        "# Ensemble (MF + IBCF)"
      ],
      "metadata": {
        "id": "cp_YOiEPPNZh"
      }
    },
    {
      "cell_type": "code",
      "source": [
        "best_rmse, best_w = float('inf'), None\n",
        "for w in np.linspace(0,1,11):\n",
        "    ens = w*preds_mf + (1-w)*preds_ibcf\n",
        "    rmse = sqrt(np.mean((valid_r-ens)**2))\n",
        "    if rmse < best_rmse:\n",
        "        best_rmse, best_w = rmse, w\n",
        "\n",
        "print(f'Ensemble RMSE={best_rmse:.4f} at w_MF={best_w:.1f}')"
      ],
      "metadata": {
        "colab": {
          "base_uri": "https://localhost:8080/"
        },
        "id": "Cuw36rsYPQpy",
        "outputId": "8265be0f-d8a1-45b8-b44c-6a1dcc41f185"
      },
      "execution_count": 14,
      "outputs": [
        {
          "output_type": "stream",
          "name": "stdout",
          "text": [
            "Ensemble RMSE=0.8108 at w_MF=0.4\n"
          ]
        }
      ]
    },
    {
      "cell_type": "code",
      "source": [
        "# Baseline: predict every rating = global mean\n",
        "mu0 = train_r.mean()\n",
        "rmse_baseline = sqrt(((valid_r - mu0)**2).mean())\n",
        "\n",
        "# MF alone\n",
        "rmse_mf = sqrt(((valid_r - preds_mf)**2).mean())\n",
        "\n",
        "# Item-CF alone\n",
        "rmse_cf = sqrt(((valid_r - preds_ibcf)**2).mean())\n",
        "\n",
        "# Ensemble (best_rmse)\n",
        "rmse_ens = best_rmse\n",
        "\n",
        "print(f\"Baseline RMSE  = {rmse_baseline:.4f}\")\n",
        "print(f\"Bias-MF RMSE   = {rmse_mf:.4f}\")\n",
        "print(f\"Item-CF RMSE   = {rmse_cf:.4f}\")\n",
        "print(f\"Ensemble RMSE  = {rmse_ens:.4f}\")"
      ],
      "metadata": {
        "colab": {
          "base_uri": "https://localhost:8080/"
        },
        "id": "pgQ9ZOXKVQFa",
        "outputId": "96b25c91-ac6b-4325-a3e8-5c544072945b"
      },
      "execution_count": 15,
      "outputs": [
        {
          "output_type": "stream",
          "name": "stdout",
          "text": [
            "Baseline RMSE  = 1.0070\n",
            "Bias-MF RMSE   = 0.8702\n",
            "Item-CF RMSE   = 0.8388\n",
            "Ensemble RMSE  = 0.8108\n"
          ]
        }
      ]
    },
    {
      "cell_type": "code",
      "source": [
        "results_df = pd.DataFrame({\n",
        "    \"Model\": [\n",
        "        \"Baseline (global mean)\",\n",
        "        f\"Bias-MF (k={best_k}, α={best_alpha}, λ={best_lam})\",\n",
        "        \"Item-CF (k=20)\",\n",
        "        f\"Ensemble (w_MF={best_w:.1f})\"\n",
        "    ],\n",
        "    \"Validation RMSE\": [\n",
        "        rmse_baseline,\n",
        "        rmse_mf,\n",
        "        rmse_cf,\n",
        "        rmse_ens\n",
        "    ]\n",
        "})\n",
        "results_df"
      ],
      "metadata": {
        "colab": {
          "base_uri": "https://localhost:8080/",
          "height": 174
        },
        "id": "d_ql9T8MVRFD",
        "outputId": "7f1b2536-f65a-4b1c-8754-a19b9897e131"
      },
      "execution_count": 16,
      "outputs": [
        {
          "output_type": "execute_result",
          "data": {
            "text/plain": [
              "                             Model  Validation RMSE\n",
              "0           Baseline (global mean)         1.007043\n",
              "1  Bias-MF (k=10, α=0.005, λ=0.05)         0.870203\n",
              "2                   Item-CF (k=20)         0.838802\n",
              "3              Ensemble (w_MF=0.4)         0.810839"
            ],
            "text/html": [
              "\n",
              "  <div id=\"df-09fa24d8-a1fc-4717-96db-289b5ae34850\" class=\"colab-df-container\">\n",
              "    <div>\n",
              "<style scoped>\n",
              "    .dataframe tbody tr th:only-of-type {\n",
              "        vertical-align: middle;\n",
              "    }\n",
              "\n",
              "    .dataframe tbody tr th {\n",
              "        vertical-align: top;\n",
              "    }\n",
              "\n",
              "    .dataframe thead th {\n",
              "        text-align: right;\n",
              "    }\n",
              "</style>\n",
              "<table border=\"1\" class=\"dataframe\">\n",
              "  <thead>\n",
              "    <tr style=\"text-align: right;\">\n",
              "      <th></th>\n",
              "      <th>Model</th>\n",
              "      <th>Validation RMSE</th>\n",
              "    </tr>\n",
              "  </thead>\n",
              "  <tbody>\n",
              "    <tr>\n",
              "      <th>0</th>\n",
              "      <td>Baseline (global mean)</td>\n",
              "      <td>1.007043</td>\n",
              "    </tr>\n",
              "    <tr>\n",
              "      <th>1</th>\n",
              "      <td>Bias-MF (k=10, α=0.005, λ=0.05)</td>\n",
              "      <td>0.870203</td>\n",
              "    </tr>\n",
              "    <tr>\n",
              "      <th>2</th>\n",
              "      <td>Item-CF (k=20)</td>\n",
              "      <td>0.838802</td>\n",
              "    </tr>\n",
              "    <tr>\n",
              "      <th>3</th>\n",
              "      <td>Ensemble (w_MF=0.4)</td>\n",
              "      <td>0.810839</td>\n",
              "    </tr>\n",
              "  </tbody>\n",
              "</table>\n",
              "</div>\n",
              "    <div class=\"colab-df-buttons\">\n",
              "\n",
              "  <div class=\"colab-df-container\">\n",
              "    <button class=\"colab-df-convert\" onclick=\"convertToInteractive('df-09fa24d8-a1fc-4717-96db-289b5ae34850')\"\n",
              "            title=\"Convert this dataframe to an interactive table.\"\n",
              "            style=\"display:none;\">\n",
              "\n",
              "  <svg xmlns=\"http://www.w3.org/2000/svg\" height=\"24px\" viewBox=\"0 -960 960 960\">\n",
              "    <path d=\"M120-120v-720h720v720H120Zm60-500h600v-160H180v160Zm220 220h160v-160H400v160Zm0 220h160v-160H400v160ZM180-400h160v-160H180v160Zm440 0h160v-160H620v160ZM180-180h160v-160H180v160Zm440 0h160v-160H620v160Z\"/>\n",
              "  </svg>\n",
              "    </button>\n",
              "\n",
              "  <style>\n",
              "    .colab-df-container {\n",
              "      display:flex;\n",
              "      gap: 12px;\n",
              "    }\n",
              "\n",
              "    .colab-df-convert {\n",
              "      background-color: #E8F0FE;\n",
              "      border: none;\n",
              "      border-radius: 50%;\n",
              "      cursor: pointer;\n",
              "      display: none;\n",
              "      fill: #1967D2;\n",
              "      height: 32px;\n",
              "      padding: 0 0 0 0;\n",
              "      width: 32px;\n",
              "    }\n",
              "\n",
              "    .colab-df-convert:hover {\n",
              "      background-color: #E2EBFA;\n",
              "      box-shadow: 0px 1px 2px rgba(60, 64, 67, 0.3), 0px 1px 3px 1px rgba(60, 64, 67, 0.15);\n",
              "      fill: #174EA6;\n",
              "    }\n",
              "\n",
              "    .colab-df-buttons div {\n",
              "      margin-bottom: 4px;\n",
              "    }\n",
              "\n",
              "    [theme=dark] .colab-df-convert {\n",
              "      background-color: #3B4455;\n",
              "      fill: #D2E3FC;\n",
              "    }\n",
              "\n",
              "    [theme=dark] .colab-df-convert:hover {\n",
              "      background-color: #434B5C;\n",
              "      box-shadow: 0px 1px 3px 1px rgba(0, 0, 0, 0.15);\n",
              "      filter: drop-shadow(0px 1px 2px rgba(0, 0, 0, 0.3));\n",
              "      fill: #FFFFFF;\n",
              "    }\n",
              "  </style>\n",
              "\n",
              "    <script>\n",
              "      const buttonEl =\n",
              "        document.querySelector('#df-09fa24d8-a1fc-4717-96db-289b5ae34850 button.colab-df-convert');\n",
              "      buttonEl.style.display =\n",
              "        google.colab.kernel.accessAllowed ? 'block' : 'none';\n",
              "\n",
              "      async function convertToInteractive(key) {\n",
              "        const element = document.querySelector('#df-09fa24d8-a1fc-4717-96db-289b5ae34850');\n",
              "        const dataTable =\n",
              "          await google.colab.kernel.invokeFunction('convertToInteractive',\n",
              "                                                    [key], {});\n",
              "        if (!dataTable) return;\n",
              "\n",
              "        const docLinkHtml = 'Like what you see? Visit the ' +\n",
              "          '<a target=\"_blank\" href=https://colab.research.google.com/notebooks/data_table.ipynb>data table notebook</a>'\n",
              "          + ' to learn more about interactive tables.';\n",
              "        element.innerHTML = '';\n",
              "        dataTable['output_type'] = 'display_data';\n",
              "        await google.colab.output.renderOutput(dataTable, element);\n",
              "        const docLink = document.createElement('div');\n",
              "        docLink.innerHTML = docLinkHtml;\n",
              "        element.appendChild(docLink);\n",
              "      }\n",
              "    </script>\n",
              "  </div>\n",
              "\n",
              "\n",
              "    <div id=\"df-594ff550-d6fb-498f-bbb5-ca10407e70fe\">\n",
              "      <button class=\"colab-df-quickchart\" onclick=\"quickchart('df-594ff550-d6fb-498f-bbb5-ca10407e70fe')\"\n",
              "                title=\"Suggest charts\"\n",
              "                style=\"display:none;\">\n",
              "\n",
              "<svg xmlns=\"http://www.w3.org/2000/svg\" height=\"24px\"viewBox=\"0 0 24 24\"\n",
              "     width=\"24px\">\n",
              "    <g>\n",
              "        <path d=\"M19 3H5c-1.1 0-2 .9-2 2v14c0 1.1.9 2 2 2h14c1.1 0 2-.9 2-2V5c0-1.1-.9-2-2-2zM9 17H7v-7h2v7zm4 0h-2V7h2v10zm4 0h-2v-4h2v4z\"/>\n",
              "    </g>\n",
              "</svg>\n",
              "      </button>\n",
              "\n",
              "<style>\n",
              "  .colab-df-quickchart {\n",
              "      --bg-color: #E8F0FE;\n",
              "      --fill-color: #1967D2;\n",
              "      --hover-bg-color: #E2EBFA;\n",
              "      --hover-fill-color: #174EA6;\n",
              "      --disabled-fill-color: #AAA;\n",
              "      --disabled-bg-color: #DDD;\n",
              "  }\n",
              "\n",
              "  [theme=dark] .colab-df-quickchart {\n",
              "      --bg-color: #3B4455;\n",
              "      --fill-color: #D2E3FC;\n",
              "      --hover-bg-color: #434B5C;\n",
              "      --hover-fill-color: #FFFFFF;\n",
              "      --disabled-bg-color: #3B4455;\n",
              "      --disabled-fill-color: #666;\n",
              "  }\n",
              "\n",
              "  .colab-df-quickchart {\n",
              "    background-color: var(--bg-color);\n",
              "    border: none;\n",
              "    border-radius: 50%;\n",
              "    cursor: pointer;\n",
              "    display: none;\n",
              "    fill: var(--fill-color);\n",
              "    height: 32px;\n",
              "    padding: 0;\n",
              "    width: 32px;\n",
              "  }\n",
              "\n",
              "  .colab-df-quickchart:hover {\n",
              "    background-color: var(--hover-bg-color);\n",
              "    box-shadow: 0 1px 2px rgba(60, 64, 67, 0.3), 0 1px 3px 1px rgba(60, 64, 67, 0.15);\n",
              "    fill: var(--button-hover-fill-color);\n",
              "  }\n",
              "\n",
              "  .colab-df-quickchart-complete:disabled,\n",
              "  .colab-df-quickchart-complete:disabled:hover {\n",
              "    background-color: var(--disabled-bg-color);\n",
              "    fill: var(--disabled-fill-color);\n",
              "    box-shadow: none;\n",
              "  }\n",
              "\n",
              "  .colab-df-spinner {\n",
              "    border: 2px solid var(--fill-color);\n",
              "    border-color: transparent;\n",
              "    border-bottom-color: var(--fill-color);\n",
              "    animation:\n",
              "      spin 1s steps(1) infinite;\n",
              "  }\n",
              "\n",
              "  @keyframes spin {\n",
              "    0% {\n",
              "      border-color: transparent;\n",
              "      border-bottom-color: var(--fill-color);\n",
              "      border-left-color: var(--fill-color);\n",
              "    }\n",
              "    20% {\n",
              "      border-color: transparent;\n",
              "      border-left-color: var(--fill-color);\n",
              "      border-top-color: var(--fill-color);\n",
              "    }\n",
              "    30% {\n",
              "      border-color: transparent;\n",
              "      border-left-color: var(--fill-color);\n",
              "      border-top-color: var(--fill-color);\n",
              "      border-right-color: var(--fill-color);\n",
              "    }\n",
              "    40% {\n",
              "      border-color: transparent;\n",
              "      border-right-color: var(--fill-color);\n",
              "      border-top-color: var(--fill-color);\n",
              "    }\n",
              "    60% {\n",
              "      border-color: transparent;\n",
              "      border-right-color: var(--fill-color);\n",
              "    }\n",
              "    80% {\n",
              "      border-color: transparent;\n",
              "      border-right-color: var(--fill-color);\n",
              "      border-bottom-color: var(--fill-color);\n",
              "    }\n",
              "    90% {\n",
              "      border-color: transparent;\n",
              "      border-bottom-color: var(--fill-color);\n",
              "    }\n",
              "  }\n",
              "</style>\n",
              "\n",
              "      <script>\n",
              "        async function quickchart(key) {\n",
              "          const quickchartButtonEl =\n",
              "            document.querySelector('#' + key + ' button');\n",
              "          quickchartButtonEl.disabled = true;  // To prevent multiple clicks.\n",
              "          quickchartButtonEl.classList.add('colab-df-spinner');\n",
              "          try {\n",
              "            const charts = await google.colab.kernel.invokeFunction(\n",
              "                'suggestCharts', [key], {});\n",
              "          } catch (error) {\n",
              "            console.error('Error during call to suggestCharts:', error);\n",
              "          }\n",
              "          quickchartButtonEl.classList.remove('colab-df-spinner');\n",
              "          quickchartButtonEl.classList.add('colab-df-quickchart-complete');\n",
              "        }\n",
              "        (() => {\n",
              "          let quickchartButtonEl =\n",
              "            document.querySelector('#df-594ff550-d6fb-498f-bbb5-ca10407e70fe button');\n",
              "          quickchartButtonEl.style.display =\n",
              "            google.colab.kernel.accessAllowed ? 'block' : 'none';\n",
              "        })();\n",
              "      </script>\n",
              "    </div>\n",
              "\n",
              "  <div id=\"id_27c09296-d1ab-413d-b43b-de5ae105c160\">\n",
              "    <style>\n",
              "      .colab-df-generate {\n",
              "        background-color: #E8F0FE;\n",
              "        border: none;\n",
              "        border-radius: 50%;\n",
              "        cursor: pointer;\n",
              "        display: none;\n",
              "        fill: #1967D2;\n",
              "        height: 32px;\n",
              "        padding: 0 0 0 0;\n",
              "        width: 32px;\n",
              "      }\n",
              "\n",
              "      .colab-df-generate:hover {\n",
              "        background-color: #E2EBFA;\n",
              "        box-shadow: 0px 1px 2px rgba(60, 64, 67, 0.3), 0px 1px 3px 1px rgba(60, 64, 67, 0.15);\n",
              "        fill: #174EA6;\n",
              "      }\n",
              "\n",
              "      [theme=dark] .colab-df-generate {\n",
              "        background-color: #3B4455;\n",
              "        fill: #D2E3FC;\n",
              "      }\n",
              "\n",
              "      [theme=dark] .colab-df-generate:hover {\n",
              "        background-color: #434B5C;\n",
              "        box-shadow: 0px 1px 3px 1px rgba(0, 0, 0, 0.15);\n",
              "        filter: drop-shadow(0px 1px 2px rgba(0, 0, 0, 0.3));\n",
              "        fill: #FFFFFF;\n",
              "      }\n",
              "    </style>\n",
              "    <button class=\"colab-df-generate\" onclick=\"generateWithVariable('results_df')\"\n",
              "            title=\"Generate code using this dataframe.\"\n",
              "            style=\"display:none;\">\n",
              "\n",
              "  <svg xmlns=\"http://www.w3.org/2000/svg\" height=\"24px\"viewBox=\"0 0 24 24\"\n",
              "       width=\"24px\">\n",
              "    <path d=\"M7,19H8.4L18.45,9,17,7.55,7,17.6ZM5,21V16.75L18.45,3.32a2,2,0,0,1,2.83,0l1.4,1.43a1.91,1.91,0,0,1,.58,1.4,1.91,1.91,0,0,1-.58,1.4L9.25,21ZM18.45,9,17,7.55Zm-12,3A5.31,5.31,0,0,0,4.9,8.1,5.31,5.31,0,0,0,1,6.5,5.31,5.31,0,0,0,4.9,4.9,5.31,5.31,0,0,0,6.5,1,5.31,5.31,0,0,0,8.1,4.9,5.31,5.31,0,0,0,12,6.5,5.46,5.46,0,0,0,6.5,12Z\"/>\n",
              "  </svg>\n",
              "    </button>\n",
              "    <script>\n",
              "      (() => {\n",
              "      const buttonEl =\n",
              "        document.querySelector('#id_27c09296-d1ab-413d-b43b-de5ae105c160 button.colab-df-generate');\n",
              "      buttonEl.style.display =\n",
              "        google.colab.kernel.accessAllowed ? 'block' : 'none';\n",
              "\n",
              "      buttonEl.onclick = () => {\n",
              "        google.colab.notebook.generateWithVariable('results_df');\n",
              "      }\n",
              "      })();\n",
              "    </script>\n",
              "  </div>\n",
              "\n",
              "    </div>\n",
              "  </div>\n"
            ],
            "application/vnd.google.colaboratory.intrinsic+json": {
              "type": "dataframe",
              "variable_name": "results_df",
              "summary": "{\n  \"name\": \"results_df\",\n  \"rows\": 4,\n  \"fields\": [\n    {\n      \"column\": \"Model\",\n      \"properties\": {\n        \"dtype\": \"string\",\n        \"num_unique_values\": 4,\n        \"samples\": [\n          \"Bias-MF (k=10, \\u03b1=0.005, \\u03bb=0.05)\",\n          \"Ensemble (w_MF=0.4)\",\n          \"Baseline (global mean)\"\n        ],\n        \"semantic_type\": \"\",\n        \"description\": \"\"\n      }\n    },\n    {\n      \"column\": \"Validation RMSE\",\n      \"properties\": {\n        \"dtype\": \"number\",\n        \"std\": 0.0869955277513891,\n        \"min\": 0.8108388876745295,\n        \"max\": 1.0070434468838607,\n        \"num_unique_values\": 4,\n        \"samples\": [\n          0.8702033718912627,\n          0.8108388876745295,\n          1.0070434468838607\n        ],\n        \"semantic_type\": \"\",\n        \"description\": \"\"\n      }\n    }\n  ]\n}"
            }
          },
          "metadata": {},
          "execution_count": 16
        }
      ]
    },
    {
      "cell_type": "code",
      "source": [],
      "metadata": {
        "id": "COe12QFMVtYZ"
      },
      "execution_count": null,
      "outputs": []
    }
  ],
  "metadata": {
    "kernelspec": {
      "display_name": "Python 3",
      "name": "python3"
    },
    "language_info": {
      "codemirror_mode": {
        "name": "ipython",
        "version": 3
      },
      "file_extension": ".py",
      "mimetype": "text/x-python",
      "name": "python",
      "nbconvert_exporter": "python",
      "pygments_lexer": "ipython3",
      "version": "3.10.14"
    },
    "orig_nbformat": 4,
    "colab": {
      "provenance": [],
      "toc_visible": true,
      "gpuType": "T4"
    },
    "accelerator": "GPU"
  },
  "nbformat": 4,
  "nbformat_minor": 0
}